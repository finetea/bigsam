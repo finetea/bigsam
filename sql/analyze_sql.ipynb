{
 "cells": [
  {
   "cell_type": "code",
   "execution_count": 4,
   "metadata": {
    "collapsed": false
   },
   "outputs": [
    {
     "data": {
      "text/plain": [
       "'\\n1. from \\xeb\\x92\\xa4\\xec\\x97\\x90 \\xed\\x85\\x8c\\xec\\x9d\\xb4\\xeb\\xb8\\x94 a\\n\\n2. insert overwrite OR create table. from \\xec\\x95\\x9e\\xec\\x97\\x90.. \\xed\\x85\\x8c\\xec\\x9d\\xb4\\xeb\\xb8\\x94 b\\n\\n  a->b\\n\\n3. join \\xed\\x85\\x8c\\xec\\x9d\\xb4\\xeb\\xb8\\x94 c, d\\n  a->b \\xec\\x83\\x81\\xed\\x83\\x9c\\xec\\x97\\x90\\xec\\x84\\x9c a->b, c->b, d->b\\n\\n'"
      ]
     },
     "execution_count": 4,
     "metadata": {},
     "output_type": "execute_result"
    }
   ],
   "source": [
    "'''\n",
    "1. from ?ㅼ뿉 ?뚯씠釉?a\n",
    "\n",
    "2. insert overwrite OR create table. from ?욎뿉.. ?뚯씠釉?b\n",
    "\n",
    "  a->b\n",
    "\n",
    "3. join ?뚯씠釉?c, d\n",
    "  a->b ?곹깭?먯꽌 a->b, c->b, d->b\n",
    "\n",
    "'''"
   ]
  },
  {
   "cell_type": "code",
   "execution_count": 5,
   "metadata": {
    "collapsed": true
   },
   "outputs": [],
   "source": [
    "\n",
    "import os\n",
    "import sys\n",
    "import re\n",
    "\n",
    "def ls(dir, hidden=False, relative=True):\n",
    "    nodes = []\n",
    "    for nm in os.listdir(dir):\n",
    "        if not hidden and nm.startswith('.'):\n",
    "            continue\n",
    "        if not relative:\n",
    "            nm = os.path.join(dir, nm)\n",
    "        nodes.append(nm)\n",
    "    nodes.sort()\n",
    "    return nodes\n",
    "\n",
    "#ext = file extension\n",
    "def find(root, ext='', files=True, dirs=False, hidden=False, relative=True, topdown=True):\n",
    "    root = os.path.join(root, '')  # add slash if not there\n",
    "    for parent, ldirs, lfiles in os.walk(root, topdown=topdown):\n",
    "        if relative:\n",
    "            parent = parent[len(root):]\n",
    "        if dirs and parent:\n",
    "            yield os.path.join(parent, '')\n",
    "        if not hidden:\n",
    "            lfiles   = [nm for nm in lfiles if not nm.startswith('.')]\n",
    "            ldirs[:] = [nm for nm in ldirs  if not nm.startswith('.')]  # in place\n",
    "        if files:\n",
    "            lfiles.sort()\n",
    "            for nm in lfiles:\n",
    "                if len(ext) == 0 or (len(ext)>0 and nm.find('.'+ext, len(nm)-1-len(ext)) > 0):\n",
    "                    nm = os.path.join(parent, nm)\n",
    "                    yield nm\n",
    "                else:\n",
    "                    continue"
   ]
  },
  {
   "cell_type": "code",
   "execution_count": 6,
   "metadata": {
    "collapsed": true
   },
   "outputs": [],
   "source": [
    "def clean_line(line):\n",
    "    line = line.strip()\n",
    "    line = line.replace('\\t', ' ')\n",
    "    line = line.replace('   ', ' ')\n",
    "    line = line.replace('  ', ' ')\n",
    "    line = line.replace(' ,', ',')\n",
    "    line = line.replace(' ;', ';')\n",
    "    line = line.replace(' )', ')')\n",
    "    line = line.replace('( ', '(')\n",
    "    return line"
   ]
  },
  {
   "cell_type": "code",
   "execution_count": 30,
   "metadata": {
    "collapsed": true
   },
   "outputs": [],
   "source": [
    "#find table relationships\n",
    "def process_sql(query):\n",
    "    print \">> def process_sql\"\n",
    "    dic = {}\n",
    "    query = query.lower()\n",
    "    \n",
    "    #find from_table. cannot find multiple from_tables\n",
    "    from_pos = query.find('from ')\n",
    "    if from_pos < 0:\n",
    "        print \"NO 'from' found!\"\n",
    "        return {}\n",
    "    \n",
    "    from_line = query[from_pos+5:]\n",
    "    searchObj = re.search(r'[a-z0-9_\\.]*', from_line, re.M|re.I)\n",
    "\n",
    "    from_table = ''\n",
    "    if searchObj:\n",
    "        from_table = searchObj.group()\n",
    "\n",
    "    print '['+from_table+']'\n",
    "\n",
    "    #find to_table\n",
    "    line = query[:from_pos]\n",
    "    table_pos = line.find('table ')\n",
    "    if table_pos < 0:\n",
    "        print \"NO dest table found!!\"\n",
    "        return {}\n",
    "    table_pos = table_pos + len('table ')\n",
    "    \n",
    "    exists_pos = line.find('exists ')\n",
    "    if exists_pos > 0:\n",
    "        table_pos = exists_pos + len('exists ')\n",
    "    \n",
    "    searchObj = re.search(r'[a-z0-9_\\.]*', line[table_pos:], re.M|re.I)\n",
    "\n",
    "    to_table = ''\n",
    "    if searchObj:\n",
    "        to_table = searchObj.group()\n",
    "\n",
    "    print '['+to_table+']'\n",
    "    \n",
    "    #find join_tables\n",
    "    join_pos = from_line.find(' join')\n",
    "    while join_pos > 0:\n",
    "        join_pos = join_pos + len(' join')\n",
    "        from_pos = -1\n",
    "        if from_line.find('(', join_pos, join_pos+2) > 0:\n",
    "            from_pos = from_line.find('from ', join_pos+2) + 5\n",
    "            from_line = from_line[from_pos:]\n",
    "        else:\n",
    "            from_line = from_line[join_pos:]\n",
    "            \n",
    "        from_line = clean_line(from_line)\n",
    "            \n",
    "        searchObj = re.search(r'[a-z0-9_\\.]*', from_line, re.M|re.I)\n",
    "\n",
    "        from_table = ''\n",
    "        if searchObj:\n",
    "            from_table = searchObj.group()\n",
    "\n",
    "        print 'JOIN['+from_table+']'\n",
    "        \n",
    "        from_line = from_line[5+len(from_table):]\n",
    "        join_pos = from_line.find(' join')\n",
    "    \n",
    "    return dic"
   ]
  },
  {
   "cell_type": "code",
   "execution_count": 33,
   "metadata": {
    "collapsed": true
   },
   "outputs": [],
   "source": [
    "#returns dic of table flows, a_table -> b_table, b_table -> c_table. or empty dic\n",
    "def process_file(filepath):\n",
    "    dic = {}\n",
    "    \n",
    "    print (\"File : [\" + filepath + \"]\")\n",
    "    f = open(filepath, 'r')\n",
    "    if not f:\n",
    "        return dic\n",
    "\n",
    "    lines = f.readlines()\n",
    "    f.close()\n",
    "\n",
    "    sqls = []\n",
    "    sql = ''\n",
    "    for line in lines:\n",
    "        line = clean_line(line)\n",
    "        #skip comment lines\n",
    "        comment_pos = line.find('--')\n",
    "        if comment_pos < 0: #not a comment\n",
    "            if len(sql) > 0 and sql[-1] != ' ':\n",
    "                line = ' ' + line\n",
    "            sql = sql + line\n",
    "            #print sql\n",
    "            #print '~~~~~~~~~~~~~~~~~~'\n",
    "            if line and line[-1] == ';':\n",
    "                sqls.append(clean_line(sql))\n",
    "                sql = ''\n",
    "\n",
    "    num = 1\n",
    "    for s in sqls:\n",
    "        print num\n",
    "        num = num + 1\n",
    "        process_sql(s.lower())\n",
    "        #print(s.lower())\n",
    "    \n",
    "    return dic"
   ]
  },
  {
   "cell_type": "code",
   "execution_count": 34,
   "metadata": {
    "collapsed": false,
    "scrolled": true
   },
   "outputs": [
    {
     "name": "stdout",
     "output_type": "stream",
     "text": [
      "File : [D:\\work\\a\\test.sql]\n",
      "1\n",
      ">> def process_sql\n",
      "NO 'from' found!\n",
      "2\n",
      ">> def process_sql\n",
      "[pap_701_ki.tm701_qm_device_primary_dana]\n",
      "[tm711_qm_btr_dou_wana_dvc_id]\n",
      "3\n",
      ">> def process_sql\n",
      "[pap_703.gear_device_new]\n",
      "[tm711_qm_btr_dou_wana_dvc_id]\n",
      "4\n",
      ">> def process_sql\n",
      "NO 'from' found!\n",
      "5\n",
      ">> def process_sql\n",
      "[default.tm711_qm_btr_dou_wana_dvc_id]\n",
      "[tm711_qm_btr_dou_wana]\n",
      "JOIN[pap_701_mart.tm701_dvc_modl_id]\n",
      "JOIN[pap_701_mart.tm701_dvc_grp_id]\n",
      "JOIN[pap_701_mart.tm701_tco_cnty_rgn]\n"
     ]
    }
   ],
   "source": [
    "root = 'D:\\work'\n",
    "for hqlfile in find(root, ext='sql',dirs=False, hidden=True):\n",
    "    hqlpath = root+'\\\\'+hqlfile\n",
    "    process_file(hqlpath)\n",
    "    break"
   ]
  },
  {
   "cell_type": "code",
   "execution_count": 29,
   "metadata": {
    "collapsed": false
   },
   "outputs": [
    {
     "name": "stdout",
     "output_type": "stream",
     "text": [
      "JOIN[ pap_701_mart.tm701_tco_cnty_rgn as t_mnc_mcc on ]\n"
     ]
    }
   ],
   "source": [
    "line = ' pap_701_mart.tm701_tco_cnty_rgn as t_mnc_mcc on (cast(t_dou.mcc_cd as int) = cast(t_mnc_mcc.mcc_cd as int) and cast(t_dou.mnc_cd as int) = cast(t_mnc_mcc.mnc_cd as int)) group by t_mnc_mcc.cnty_nm, t_mnc_mcc.rgn_cd, t_mnc_mcc.mnc_nm, t_modl.dvc_gp_nm, t_dou.model_id, t_dou.fw_ver, floor(t_dou.dou);'\n",
    "searchObj = re.search(r'[ a-z0-9_\\.]*', line, re.M|re.I)\n",
    "\n",
    "from_table = ''\n",
    "if searchObj:\n",
    "    from_table = searchObj.group()\n",
    "    print 'JOIN['+from_table+']'\n"
   ]
  },
  {
   "cell_type": "code",
   "execution_count": 11,
   "metadata": {
    "collapsed": false
   },
   "outputs": [
    {
     "data": {
      "text/plain": [
       "'D:\\\\work\\\\a\\\\test.sql'"
      ]
     },
     "execution_count": 11,
     "metadata": {},
     "output_type": "execute_result"
    }
   ],
   "source": [
    "hqlpath"
   ]
  },
  {
   "cell_type": "code",
   "execution_count": null,
   "metadata": {
    "collapsed": true
   },
   "outputs": [],
   "source": []
  }
 ],
 "metadata": {
  "anaconda-cloud": {},
  "kernelspec": {
   "display_name": "Python [Root]",
   "language": "python",
   "name": "Python [Root]"
  },
  "language_info": {
   "codemirror_mode": {
    "name": "ipython",
    "version": 2
   },
   "file_extension": ".py",
   "mimetype": "text/x-python",
   "name": "python",
   "nbconvert_exporter": "python",
   "pygments_lexer": "ipython2",
   "version": "2.7.11"
  }
 },
 "nbformat": 4,
 "nbformat_minor": 0
}
